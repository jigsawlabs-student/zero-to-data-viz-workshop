{
 "cells": [
  {
   "cell_type": "markdown",
   "metadata": {},
   "source": [
    "# Exploring Data From the Web"
   ]
  },
  {
   "cell_type": "markdown",
   "metadata": {},
   "source": [
    "### Introduction"
   ]
  },
  {
   "cell_type": "markdown",
   "metadata": {},
   "source": [
    "In the last lesson, we saw how to collect some of our live data from the web.  In this lesson, let's try to use our skills to collect some data about NBA players.  Without further ado..."
   ]
  },
  {
   "cell_type": "markdown",
   "metadata": {},
   "source": [
    "### Collecting Data"
   ]
  },
  {
   "cell_type": "markdown",
   "metadata": {},
   "source": [
    "Now the first step is to load up our pandas library into our current coding environment.  We want to able to reference that library with the variable, or alias `pd`.  "
   ]
  },
  {
   "cell_type": "code",
   "execution_count": 2,
   "metadata": {},
   "outputs": [],
   "source": [
    "import pandas as pd"
   ]
  },
  {
   "cell_type": "markdown",
   "metadata": {},
   "source": [
    "You'll know that it's working if you can type `pd.` tab, and see a list of methods."
   ]
  },
  {
   "cell_type": "code",
   "execution_count": null,
   "metadata": {},
   "outputs": [],
   "source": [
    "pd."
   ]
  },
  {
   "cell_type": "markdown",
   "metadata": {},
   "source": [
    "Next we would like to use read our html from a specified URL.  We'll provide the url for you below.  You will need to use this url, combined with the correct pandas method to read the tables.  Store the result as `list_of_tables`.  There is only one table on the page."
   ]
  },
  {
   "cell_type": "code",
   "execution_count": 3,
   "metadata": {},
   "outputs": [
    {
     "data": {
      "text/plain": [
       "1"
      ]
     },
     "execution_count": 3,
     "metadata": {},
     "output_type": "execute_result"
    }
   ],
   "source": [
    "url = 'https://www.espn.com/nba/team/roster/_/name/lal/los-angeles-lakers'\n",
    "list_of_tables = pd.read_html(url)\n",
    "\n",
    "\n",
    "len(list_of_tables)\n",
    "\n",
    "# 1"
   ]
  },
  {
   "cell_type": "markdown",
   "metadata": {},
   "source": [
    "Let's select that first table, and store it as player table.  This is our pandas dataframe."
   ]
  },
  {
   "cell_type": "code",
   "execution_count": 4,
   "metadata": {},
   "outputs": [
    {
     "data": {
      "text/html": [
       "<div>\n",
       "<style scoped>\n",
       "    .dataframe tbody tr th:only-of-type {\n",
       "        vertical-align: middle;\n",
       "    }\n",
       "\n",
       "    .dataframe tbody tr th {\n",
       "        vertical-align: top;\n",
       "    }\n",
       "\n",
       "    .dataframe thead th {\n",
       "        text-align: right;\n",
       "    }\n",
       "</style>\n",
       "<table border=\"1\" class=\"dataframe\">\n",
       "  <thead>\n",
       "    <tr style=\"text-align: right;\">\n",
       "      <th></th>\n",
       "      <th>Unnamed: 0</th>\n",
       "      <th>Name</th>\n",
       "      <th>POS</th>\n",
       "      <th>Age</th>\n",
       "      <th>HT</th>\n",
       "      <th>WT</th>\n",
       "      <th>College</th>\n",
       "      <th>Salary</th>\n",
       "    </tr>\n",
       "  </thead>\n",
       "  <tbody>\n",
       "    <tr>\n",
       "      <th>0</th>\n",
       "      <td>NaN</td>\n",
       "      <td>Patrick Beverley21</td>\n",
       "      <td>PG</td>\n",
       "      <td>34</td>\n",
       "      <td>6' 1\"</td>\n",
       "      <td>180 lbs</td>\n",
       "      <td>Arkansas</td>\n",
       "      <td>$13,000,000</td>\n",
       "    </tr>\n",
       "    <tr>\n",
       "      <th>1</th>\n",
       "      <td>NaN</td>\n",
       "      <td>Sterling Brown23</td>\n",
       "      <td>SF</td>\n",
       "      <td>27</td>\n",
       "      <td>6' 5\"</td>\n",
       "      <td>219 lbs</td>\n",
       "      <td>SMU</td>\n",
       "      <td>$3,000,000</td>\n",
       "    </tr>\n",
       "    <tr>\n",
       "      <th>2</th>\n",
       "      <td>NaN</td>\n",
       "      <td>Troy Brown Jr.7</td>\n",
       "      <td>SF</td>\n",
       "      <td>23</td>\n",
       "      <td>6' 6\"</td>\n",
       "      <td>215 lbs</td>\n",
       "      <td>Oregon</td>\n",
       "      <td>$1,836,090</td>\n",
       "    </tr>\n",
       "  </tbody>\n",
       "</table>\n",
       "</div>"
      ],
      "text/plain": [
       "   Unnamed: 0                Name POS  Age     HT       WT   College  \\\n",
       "0         NaN  Patrick Beverley21  PG   34  6' 1\"  180 lbs  Arkansas   \n",
       "1         NaN    Sterling Brown23  SF   27  6' 5\"  219 lbs       SMU   \n",
       "2         NaN     Troy Brown Jr.7  SF   23  6' 6\"  215 lbs    Oregon   \n",
       "\n",
       "        Salary  \n",
       "0  $13,000,000  \n",
       "1   $3,000,000  \n",
       "2   $1,836,090  "
      ]
     },
     "execution_count": 4,
     "metadata": {},
     "output_type": "execute_result"
    }
   ],
   "source": [
    "player_table = list_of_tables[0]\n",
    "player_table[:3]\n",
    "\n",
    "# \tUnnamed: 0\tName\tPOS\tAge\tHT\tWT\tCollege\tSalary\n",
    "# 0\tNaN\tPatrick Beverley21\tPG\t34\t6' 1\"\t180 lbs\tArkansas\t$13,000,000\n",
    "# 1\tNaN\tSterling Brown23\tSF\t27\t6' 5\"\t219 lbs\tSMU\t$3,000,000\n",
    "# 2\tNaN\tTroy Brown Jr.7\tSF\t23\t6' 6\"\t215 lbs\tOregon\t$1,836,090"
   ]
  },
  {
   "cell_type": "markdown",
   "metadata": {},
   "source": [
    "Now, because we don't really know how to work with a pandas dataframe, let's convert this to a list of dictionaries and store it in the variable `players`.  Here we'll help you.  We can do this with the line `player_table.to_dict('records')`."
   ]
  },
  {
   "cell_type": "code",
   "execution_count": 5,
   "metadata": {},
   "outputs": [],
   "source": [
    "players = player_table.to_dict('records')"
   ]
  },
  {
   "cell_type": "markdown",
   "metadata": {},
   "source": [
    "So `players` is a list of dictionaries, and just like any list, we can select the first couple of elements by slicing the list like so."
   ]
  },
  {
   "cell_type": "code",
   "execution_count": 6,
   "metadata": {},
   "outputs": [
    {
     "data": {
      "text/plain": [
       "[{'Unnamed: 0': nan,\n",
       "  'Name': 'Patrick Beverley21',\n",
       "  'POS': 'PG',\n",
       "  'Age': 34,\n",
       "  'HT': '6\\' 1\"',\n",
       "  'WT': '180 lbs',\n",
       "  'College': 'Arkansas',\n",
       "  'Salary': '$13,000,000'},\n",
       " {'Unnamed: 0': nan,\n",
       "  'Name': 'Sterling Brown23',\n",
       "  'POS': 'SF',\n",
       "  'Age': 27,\n",
       "  'HT': '6\\' 5\"',\n",
       "  'WT': '219 lbs',\n",
       "  'College': 'SMU',\n",
       "  'Salary': '$3,000,000'}]"
      ]
     },
     "execution_count": 6,
     "metadata": {},
     "output_type": "execute_result"
    }
   ],
   "source": [
    "players[0:2]"
   ]
  },
  {
   "cell_type": "markdown",
   "metadata": {},
   "source": [
    "Ok, looks pretty good."
   ]
  },
  {
   "cell_type": "markdown",
   "metadata": {},
   "source": [
    "### Exploring our data"
   ]
  },
  {
   "cell_type": "markdown",
   "metadata": {},
   "source": [
    "Ok, so now it's time to explore some of our data.  Remember that `players` is just a list.  Begin by slicing the first three elements from the list."
   ]
  },
  {
   "cell_type": "code",
   "execution_count": null,
   "metadata": {},
   "outputs": [],
   "source": [
    "first_three = None\n",
    "len(first_three)\n",
    "\n",
    "# 3"
   ]
  },
  {
   "cell_type": "markdown",
   "metadata": {},
   "source": [
    "Next, select the third player in the list, and select that player's salary."
   ]
  },
  {
   "cell_type": "code",
   "execution_count": 7,
   "metadata": {},
   "outputs": [
    {
     "data": {
      "text/plain": [
       "'$1,836,090'"
      ]
     },
     "execution_count": 7,
     "metadata": {},
     "output_type": "execute_result"
    }
   ],
   "source": [
    "last_salary = None\n",
    "last_salary\n",
    "\n",
    "# '$1,836,090'"
   ]
  },
  {
   "cell_type": "markdown",
   "metadata": {},
   "source": [
    "Select the third player's height."
   ]
  },
  {
   "cell_type": "code",
   "execution_count": 8,
   "metadata": {},
   "outputs": [
    {
     "data": {
      "text/plain": [
       "'6\\' 6\"'"
      ]
     },
     "execution_count": 8,
     "metadata": {},
     "output_type": "execute_result"
    }
   ],
   "source": [
    "third_height = None\n",
    "third_height\n",
    "# '6\\' 6\""
   ]
  },
  {
   "cell_type": "markdown",
   "metadata": {},
   "source": [
    "### Summary"
   ]
  },
  {
   "cell_type": "markdown",
   "metadata": {},
   "source": [
    "In this lesson, we saw how to gather some live data from the web.  We did this with the following steps:\n",
    "\n",
    "1. Load the pandas library\n",
    "2. Read the list of tables from the web\n",
    "3. Select the relevant table from our list\n",
    "4. Convert that table to a list of dictionaries with `table.to_dict('records')`\n",
    "\n",
    "From there, we can use our list of dictionaries to explore our data."
   ]
  }
 ],
 "metadata": {
  "kernelspec": {
   "display_name": "Python 3 (ipykernel)",
   "language": "python",
   "name": "python3"
  },
  "language_info": {
   "codemirror_mode": {
    "name": "ipython",
    "version": 3
   },
   "file_extension": ".py",
   "mimetype": "text/x-python",
   "name": "python",
   "nbconvert_exporter": "python",
   "pygments_lexer": "ipython3",
   "version": "3.10.6"
  }
 },
 "nbformat": 4,
 "nbformat_minor": 4
}
