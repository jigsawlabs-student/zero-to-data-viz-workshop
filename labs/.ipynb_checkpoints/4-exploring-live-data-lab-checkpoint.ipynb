{
 "cells": [
  {
   "cell_type": "markdown",
   "metadata": {},
   "source": [
    "# Exploring Data From the Web"
   ]
  },
  {
   "cell_type": "markdown",
   "metadata": {},
   "source": [
    "### Introduction"
   ]
  },
  {
   "cell_type": "markdown",
   "metadata": {},
   "source": [
    "In the last lesson, we saw how to collect some of our live data from the web.  In this lesson, let's try to use our skills to collect some data about NBA players.  Without further ado..."
   ]
  },
  {
   "cell_type": "markdown",
   "metadata": {},
   "source": [
    "### Collecting Data"
   ]
  },
  {
   "cell_type": "markdown",
   "metadata": {},
   "source": [
    "Now the first step is to load up our pandas library into our current coding environment.  We want to able to reference that library with the variable, or alias `pd`.  "
   ]
  },
  {
   "cell_type": "code",
   "execution_count": 1,
   "metadata": {},
   "outputs": [],
   "source": [
    "import pandas as pd"
   ]
  },
  {
   "cell_type": "markdown",
   "metadata": {},
   "source": [
    "You'll know that it's working if you can type `pd.` tab, and see a list of methods."
   ]
  },
  {
   "cell_type": "code",
   "execution_count": null,
   "metadata": {},
   "outputs": [],
   "source": [
    "pd."
   ]
  },
  {
   "cell_type": "markdown",
   "metadata": {},
   "source": [
    "Next we would like to use read our html from a specified URL.  We'll provide the url for you below.  You will need to use this url, combined with the correct pandas method to read the tables.  Store the result as `list_of_tables`.  There is only one table on the page."
   ]
  },
  {
   "cell_type": "code",
   "execution_count": 3,
   "metadata": {},
   "outputs": [
    {
     "data": {
      "text/plain": [
       "1"
      ]
     },
     "execution_count": 3,
     "metadata": {},
     "output_type": "execute_result"
    }
   ],
   "source": [
    "url = 'https://www.espn.com/nba/team/roster/_/name/lal/los-angeles-lakers'\n",
    "list_of_tables = pd.read_html(url)\n",
    "\n",
    "\n",
    "len(list_of_tables)\n",
    "\n",
    "# 1"
   ]
  },
  {
   "cell_type": "markdown",
   "metadata": {},
   "source": [
    "Let's select that first table, and store it as player table.  This is our pandas dataframe."
   ]
  },
  {
   "cell_type": "code",
   "execution_count": 4,
   "metadata": {},
   "outputs": [
    {
     "data": {
      "text/html": [
       "<div>\n",
       "<style scoped>\n",
       "    .dataframe tbody tr th:only-of-type {\n",
       "        vertical-align: middle;\n",
       "    }\n",
       "\n",
       "    .dataframe tbody tr th {\n",
       "        vertical-align: top;\n",
       "    }\n",
       "\n",
       "    .dataframe thead th {\n",
       "        text-align: right;\n",
       "    }\n",
       "</style>\n",
       "<table border=\"1\" class=\"dataframe\">\n",
       "  <thead>\n",
       "    <tr style=\"text-align: right;\">\n",
       "      <th></th>\n",
       "      <th>Unnamed: 0</th>\n",
       "      <th>Name</th>\n",
       "      <th>POS</th>\n",
       "      <th>Age</th>\n",
       "      <th>HT</th>\n",
       "      <th>WT</th>\n",
       "      <th>College</th>\n",
       "      <th>Salary</th>\n",
       "    </tr>\n",
       "  </thead>\n",
       "  <tbody>\n",
       "    <tr>\n",
       "      <th>0</th>\n",
       "      <td>NaN</td>\n",
       "      <td>Kostas Antetokounmpo37</td>\n",
       "      <td>PF</td>\n",
       "      <td>23</td>\n",
       "      <td>6' 10\"</td>\n",
       "      <td>200 lbs</td>\n",
       "      <td>Dayton</td>\n",
       "      <td>--</td>\n",
       "    </tr>\n",
       "    <tr>\n",
       "      <th>1</th>\n",
       "      <td>NaN</td>\n",
       "      <td>Carmelo Anthony7</td>\n",
       "      <td>PF</td>\n",
       "      <td>37</td>\n",
       "      <td>6' 7\"</td>\n",
       "      <td>238 lbs</td>\n",
       "      <td>Syracuse</td>\n",
       "      <td>$1,669,178</td>\n",
       "    </tr>\n",
       "    <tr>\n",
       "      <th>2</th>\n",
       "      <td>NaN</td>\n",
       "      <td>Trevor Ariza1</td>\n",
       "      <td>SF</td>\n",
       "      <td>36</td>\n",
       "      <td>6' 8\"</td>\n",
       "      <td>215 lbs</td>\n",
       "      <td>UCLA</td>\n",
       "      <td>$1,669,178</td>\n",
       "    </tr>\n",
       "  </tbody>\n",
       "</table>\n",
       "</div>"
      ],
      "text/plain": [
       "   Unnamed: 0                    Name POS  Age      HT       WT   College  \\\n",
       "0         NaN  Kostas Antetokounmpo37  PF   23  6' 10\"  200 lbs    Dayton   \n",
       "1         NaN        Carmelo Anthony7  PF   37   6' 7\"  238 lbs  Syracuse   \n",
       "2         NaN           Trevor Ariza1  SF   36   6' 8\"  215 lbs      UCLA   \n",
       "\n",
       "       Salary  \n",
       "0          --  \n",
       "1  $1,669,178  \n",
       "2  $1,669,178  "
      ]
     },
     "execution_count": 4,
     "metadata": {},
     "output_type": "execute_result"
    }
   ],
   "source": [
    "player_table = list_of_tables[0]\n",
    "player_table[:3]\n",
    "\n",
    "# \tUnnamed: 0\tName\tPOS\tAge\tHT\tWT\tCollege\tSalary\n",
    "# 0\tNaN\tKostas Antetokounmpo37\tPF\t22\t6' 10\"\t200 lbs\tDayton\t--\n",
    "# 1\tNaN\tAvery Bradley11\tPG\t29\t6' 3\"\t180 lbs\tTexas\t$4,767,000\n",
    "# 2\tNaN\tDevontae Cacok12\tC\t23\t6' 8\"\t240 lbs\tNorth Carolina-Wilmington\t--"
   ]
  },
  {
   "cell_type": "markdown",
   "metadata": {},
   "source": [
    "Now, because we don't really know how to work with a pandas dataframe, let's convert this to a list of dictionaries and store it in the variable `players`.  Here we'll help you.  We can do this with the line `player_table.to_dict('records')`."
   ]
  },
  {
   "cell_type": "code",
   "execution_count": 5,
   "metadata": {},
   "outputs": [],
   "source": [
    "players = player_table.to_dict('records')"
   ]
  },
  {
   "cell_type": "markdown",
   "metadata": {},
   "source": [
    "So `players` is a list of dictionaries, and just like any list, we can select the first couple of elements by slicing the list like so."
   ]
  },
  {
   "cell_type": "code",
   "execution_count": 6,
   "metadata": {},
   "outputs": [
    {
     "data": {
      "text/plain": [
       "[{'Unnamed: 0': nan,\n",
       "  'Name': 'Kostas Antetokounmpo37',\n",
       "  'POS': 'PF',\n",
       "  'Age': 23,\n",
       "  'HT': '6\\' 10\"',\n",
       "  'WT': '200 lbs',\n",
       "  'College': 'Dayton',\n",
       "  'Salary': '--'},\n",
       " {'Unnamed: 0': nan,\n",
       "  'Name': 'Carmelo Anthony7',\n",
       "  'POS': 'PF',\n",
       "  'Age': 37,\n",
       "  'HT': '6\\' 7\"',\n",
       "  'WT': '238 lbs',\n",
       "  'College': 'Syracuse',\n",
       "  'Salary': '$1,669,178'}]"
      ]
     },
     "execution_count": 6,
     "metadata": {},
     "output_type": "execute_result"
    }
   ],
   "source": [
    "players[0:2]"
   ]
  },
  {
   "cell_type": "markdown",
   "metadata": {},
   "source": [
    "Ok, looks pretty good."
   ]
  },
  {
   "cell_type": "markdown",
   "metadata": {},
   "source": [
    "### Exploring our data"
   ]
  },
  {
   "cell_type": "markdown",
   "metadata": {},
   "source": [
    "Ok, so now it's time to explore some of our data.  Remember that `players` is just a list.  Begin by slicing the first three elements from the list."
   ]
  },
  {
   "cell_type": "code",
   "execution_count": null,
   "metadata": {},
   "outputs": [],
   "source": [
    "first_three = None\n",
    "len(first_three)\n",
    "\n",
    "# 3"
   ]
  },
  {
   "cell_type": "markdown",
   "metadata": {},
   "source": [
    "Next, select the last player in the list, and select that player's salary."
   ]
  },
  {
   "cell_type": "code",
   "execution_count": 2,
   "metadata": {},
   "outputs": [],
   "source": [
    "last_salary = None\n",
    "last_salary\n",
    "\n",
    "# '$2,564,753'"
   ]
  },
  {
   "cell_type": "markdown",
   "metadata": {},
   "source": [
    "Select the third player's height."
   ]
  },
  {
   "cell_type": "code",
   "execution_count": 3,
   "metadata": {},
   "outputs": [],
   "source": [
    "third_height = None\n",
    "third_height\n",
    "# '6\\' 8\"'"
   ]
  },
  {
   "cell_type": "markdown",
   "metadata": {},
   "source": [
    "### Summary"
   ]
  },
  {
   "cell_type": "markdown",
   "metadata": {},
   "source": [
    "In this lesson, we saw how to gather some live data from the web.  We did this with the following steps:\n",
    "\n",
    "1. Load the pandas library\n",
    "2. Read the list of tables from the web\n",
    "3. Select the relevant table from our list\n",
    "4. Convert that table to a list of dictionaries with `table.to_dict('records')`\n",
    "\n",
    "From there, we can use our list of dictionaries to explore our data."
   ]
  }
 ],
 "metadata": {
  "kernelspec": {
   "display_name": "Python 3",
   "language": "python",
   "name": "python3"
  },
  "language_info": {
   "codemirror_mode": {
    "name": "ipython",
    "version": 3
   },
   "file_extension": ".py",
   "mimetype": "text/x-python",
   "name": "python",
   "nbconvert_exporter": "python",
   "pygments_lexer": "ipython3",
   "version": "3.8.6"
  }
 },
 "nbformat": 4,
 "nbformat_minor": 4
}
