{
 "cells": [
  {
   "cell_type": "markdown",
   "metadata": {},
   "source": [
    "# Nested Dictionaries Lab"
   ]
  },
  {
   "cell_type": "markdown",
   "metadata": {},
   "source": [
    "### Introduction"
   ]
  },
  {
   "cell_type": "markdown",
   "metadata": {},
   "source": [
    "In this lesson, let's practice working with nested data structures.  Let's return to our scenario of working with restaurant employees."
   ]
  },
  {
   "cell_type": "markdown",
   "metadata": {},
   "source": [
    "### Using a nested data structure"
   ]
  },
  {
   "cell_type": "markdown",
   "metadata": {},
   "source": [
    "This time we have a dictionary representing `olivia` that has keys for `name`, `birthday`, as well as the days she is available"
   ]
  },
  {
   "cell_type": "code",
   "execution_count": 4,
   "metadata": {},
   "outputs": [],
   "source": [
    "olivia = {'name': 'olivia', 'birthday': '11/6/1992', \n",
    "          'days_available': ['Monday', 'Tuesday', 'Saturday', 'Sunday']}"
   ]
  },
  {
   "cell_type": "markdown",
   "metadata": {},
   "source": [
    "> Press shift + enter to assign `olivia` to the dictionary."
   ]
  },
  {
   "cell_type": "markdown",
   "metadata": {},
   "source": [
    "Now from the dictionary above, select the list of days that `olivia` is available, and assign it to the variable `days_available`."
   ]
  },
  {
   "cell_type": "code",
   "execution_count": 1,
   "metadata": {},
   "outputs": [],
   "source": [
    "days_available = None\n",
    "days_available\n",
    "# ['Monday', 'Tuesday', 'Saturday', 'Sunday']"
   ]
  },
  {
   "cell_type": "markdown",
   "metadata": {},
   "source": [
    "Next we want to select the last day that olivia is available.  Start with the variable `olivia` and select the last day that she is available.  Store this value in the variable `last_weekday`."
   ]
  },
  {
   "cell_type": "code",
   "execution_count": 2,
   "metadata": {},
   "outputs": [],
   "source": [
    "last_weekday = None\n",
    "last_weekday\n",
    "# 'Sunday'"
   ]
  },
  {
   "cell_type": "markdown",
   "metadata": {},
   "source": [
    "Next, let's create a new dictionary to represent another employee.  We'll assign it to the variable of `amelia`.  Our dictionary should have keys of `name`, `birthday`, and `days_available`.  And the corresponding values should be `amelia`, `3/18/1989` and an empty list for days available (as these are unknown to us right now.  "
   ]
  },
  {
   "cell_type": "markdown",
   "metadata": {},
   "source": [
    "> Replace the None value below with the correct dictionary."
   ]
  },
  {
   "cell_type": "code",
   "execution_count": 1,
   "metadata": {},
   "outputs": [],
   "source": [
    "amelia = None"
   ]
  },
  {
   "cell_type": "markdown",
   "metadata": {},
   "source": [
    ">  Press `shift + return` on the cell above.\n",
    "> \n",
    "> Then to check your work  press `shift + return` on the cell below.  The keys in your dictionary, should match the keys printed below."
   ]
  },
  {
   "cell_type": "code",
   "execution_count": 2,
   "metadata": {},
   "outputs": [
    {
     "data": {
      "text/plain": [
       "dict_keys(['name', 'birthday', 'days_available'])"
      ]
     },
     "execution_count": 2,
     "metadata": {},
     "output_type": "execute_result"
    }
   ],
   "source": [
    "amelia.keys()\n",
    "\n",
    "# dict_keys(['name', 'birthday', 'days_available'])"
   ]
  },
  {
   "cell_type": "markdown",
   "metadata": {},
   "source": [
    "> The values in your dictionary, should also match the values printed below."
   ]
  },
  {
   "cell_type": "code",
   "execution_count": 3,
   "metadata": {},
   "outputs": [
    {
     "data": {
      "text/plain": [
       "dict_values(['amelia', '3/18/1989', []])"
      ]
     },
     "execution_count": 3,
     "metadata": {},
     "output_type": "execute_result"
    }
   ],
   "source": [
    "amelia.values()\n",
    "\n",
    "# dict_values(['amelia', '3/18/1989', []])"
   ]
  },
  {
   "cell_type": "markdown",
   "metadata": {},
   "source": [
    "### A list of employees"
   ]
  },
  {
   "cell_type": "markdown",
   "metadata": {},
   "source": [
    "So now we have two employees, represented by the variables `olivia` and `amelia`.  Create a list and assign it to the variable of employees, placing `olivia` as the first employee and `amelia` as the second."
   ]
  },
  {
   "cell_type": "code",
   "execution_count": 5,
   "metadata": {},
   "outputs": [],
   "source": [
    "employees = None"
   ]
  },
  {
   "cell_type": "markdown",
   "metadata": {},
   "source": [
    "Great job, as a bonus let's access information about an individual employee from our list.  Let's start with the variable `employees` and get to the first employee's name.  Let's do this together.  We'll break the problem into the following steps.  \n",
    "\n",
    "1. Access the first employee from our list.\n",
    "\n",
    "```python\n",
    "employees[0]\n",
    "```\n",
    "\n",
    "2. From there access that employee's name.\n",
    "\n",
    "```python\n",
    "employees[0]['name']\n",
    "```"
   ]
  },
  {
   "cell_type": "markdown",
   "metadata": {},
   "source": [
    "Try it out in the cell below."
   ]
  },
  {
   "cell_type": "code",
   "execution_count": 7,
   "metadata": {},
   "outputs": [
    {
     "data": {
      "text/plain": [
       "'olivia'"
      ]
     },
     "execution_count": 7,
     "metadata": {},
     "output_type": "execute_result"
    }
   ],
   "source": [
    "\n",
    "# 'olivia'"
   ]
  },
  {
   "cell_type": "markdown",
   "metadata": {},
   "source": [
    "Now on your own, access the second employees birthday, and assign it to the variable as `second_employee_bday`."
   ]
  },
  {
   "cell_type": "code",
   "execution_count": 10,
   "metadata": {},
   "outputs": [
    {
     "data": {
      "text/plain": [
       "'3/18/1989'"
      ]
     },
     "execution_count": 10,
     "metadata": {},
     "output_type": "execute_result"
    }
   ],
   "source": [
    "second_employee_bday = None\n",
    "\n",
    "second_employee_bday\n",
    "# '3/18/1989'"
   ]
  },
  {
   "cell_type": "markdown",
   "metadata": {},
   "source": [
    "Finally, select the last day that the first employee is available.  Start with the variable `employees`.  "
   ]
  },
  {
   "cell_type": "markdown",
   "metadata": {},
   "source": [
    "> Hint: This is tricky, so break the problem into steps.  The first step is to access the second employee, and then go from there."
   ]
  },
  {
   "cell_type": "code",
   "execution_count": 13,
   "metadata": {},
   "outputs": [],
   "source": [
    "# employees\n",
    "\n",
    "# 'Sunday'"
   ]
  },
  {
   "cell_type": "markdown",
   "metadata": {},
   "source": [
    "### Summary"
   ]
  },
  {
   "cell_type": "markdown",
   "metadata": {},
   "source": [
    "In this lesson, we accessed information from dictionaries and we created our own dictionaries.  We practiced using the `keys` method, and the `values` method.  Then we moved onto nested data structures, a list of dictionaries.  We'll see in the next lesson that working with nested data structures is really one of the keys to working with APIs."
   ]
  }
 ],
 "metadata": {
  "kernelspec": {
   "display_name": "Python 3",
   "language": "python",
   "name": "python3"
  },
  "language_info": {
   "codemirror_mode": {
    "name": "ipython",
    "version": 3
   },
   "file_extension": ".py",
   "mimetype": "text/x-python",
   "name": "python",
   "nbconvert_exporter": "python",
   "pygments_lexer": "ipython3",
   "version": "3.8.6"
  }
 },
 "nbformat": 4,
 "nbformat_minor": 4
}
