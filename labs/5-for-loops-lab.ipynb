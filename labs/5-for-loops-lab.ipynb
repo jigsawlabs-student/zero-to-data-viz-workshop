{
 "cells": [
  {
   "cell_type": "markdown",
   "metadata": {},
   "source": [
    "# Practice with Loops"
   ]
  },
  {
   "cell_type": "markdown",
   "metadata": {},
   "source": [
    "### Using Loops "
   ]
  },
  {
   "cell_type": "markdown",
   "metadata": {},
   "source": [
    "Ok, let's get started.  Here's a list of countries."
   ]
  },
  {
   "cell_type": "code",
   "execution_count": 1,
   "metadata": {},
   "outputs": [],
   "source": [
    "countries = ['united states', 'canada', 'mexico']"
   ]
  },
  {
   "cell_type": "markdown",
   "metadata": {},
   "source": [
    "1. Begin by printing out each country successively below."
   ]
  },
  {
   "cell_type": "code",
   "execution_count": 1,
   "metadata": {},
   "outputs": [],
   "source": [
    "countries = ['united states', 'canada', 'mexico']\n",
    "\n",
    "# print out the list of countries"
   ]
  },
  {
   "cell_type": "markdown",
   "metadata": {},
   "source": [
    "> It worked successfully if you see each individual country printed out on a separate line."
   ]
  },
  {
   "cell_type": "markdown",
   "metadata": {},
   "source": [
    "2. Now print out the countries but with each word capitalized.  We can use the `title()` method to ensure that each word of a string is capitalized."
   ]
  },
  {
   "cell_type": "code",
   "execution_count": null,
   "metadata": {},
   "outputs": [],
   "source": [
    "countries = ['united states', 'canada', 'mexico']\n",
    "\n"
   ]
  },
  {
   "cell_type": "markdown",
   "metadata": {},
   "source": [
    "### Loops to create new lists"
   ]
  },
  {
   "cell_type": "markdown",
   "metadata": {},
   "source": [
    "Ok, now that we're warmed up, let's do something more challenging."
   ]
  },
  {
   "cell_type": "code",
   "execution_count": 2,
   "metadata": {},
   "outputs": [],
   "source": [
    "characters = ['bart', 'homer', 'marge']"
   ]
  },
  {
   "cell_type": "markdown",
   "metadata": {},
   "source": [
    "Let's use a loop to capitalize each member of the simpsons, and add each member to a list.\n",
    "\n",
    "Assign the list of capitalized simpsons to the variable below."
   ]
  },
  {
   "cell_type": "code",
   "execution_count": 5,
   "metadata": {},
   "outputs": [],
   "source": [
    "capitalized_characters = None\n",
    "\n",
    "    \n",
    "capitalized_characters   \n",
    "# ['Bart', 'Homer', 'Marge']"
   ]
  },
  {
   "cell_type": "markdown",
   "metadata": {},
   "source": [
    "Now oftentimes, we use loops to clean up data.  For example, when we saw the NBA salaries a few lessons back, they were a string, when we wanted them to be an integer.  We can convert a string into an integer with the following code."
   ]
  },
  {
   "cell_type": "code",
   "execution_count": 9,
   "metadata": {},
   "outputs": [
    {
     "data": {
      "text/plain": [
       "2564753"
      ]
     },
     "execution_count": 9,
     "metadata": {},
     "output_type": "execute_result"
    }
   ],
   "source": [
    "int('2564753')"
   ]
  },
  {
   "cell_type": "markdown",
   "metadata": {},
   "source": [
    "Use a loop to create a list of salaries, with each salary being an integer, and not a string."
   ]
  },
  {
   "cell_type": "code",
   "execution_count": 14,
   "metadata": {},
   "outputs": [
    {
     "data": {
      "text/plain": [
       "[]"
      ]
     },
     "execution_count": 14,
     "metadata": {},
     "output_type": "execute_result"
    }
   ],
   "source": [
    "string_salaries = ['2564753', '8964700', '6756770']\n",
    "\n",
    "int_salaries = []\n",
    "\n",
    "\n",
    "int_salaries\n",
    "# [2564753, 8964700, 6756770]"
   ]
  },
  {
   "cell_type": "code",
   "execution_count": 16,
   "metadata": {},
   "outputs": [],
   "source": [
    "# type(int_salaries[0])\n",
    "\n",
    "# int"
   ]
  },
  {
   "cell_type": "markdown",
   "metadata": {},
   "source": [
    "### A Coding Tip"
   ]
  },
  {
   "cell_type": "markdown",
   "metadata": {},
   "source": [
    "Whenever we are looping through data, it can be difficult to keep track of what our different variables represents.  But if we follow the following pattern, it becomes easier.\n",
    "\n",
    "* Initial list: plural name\n",
    "* Block variable: singular version of the initial list"
   ]
  },
  {
   "cell_type": "markdown",
   "metadata": {},
   "source": [
    "So for looping through the list of simpson characters, our code should look like the following:"
   ]
  },
  {
   "cell_type": "code",
   "execution_count": 6,
   "metadata": {},
   "outputs": [
    {
     "data": {
      "text/plain": [
       "['Bart', 'Homer', 'Marge']"
      ]
     },
     "execution_count": 6,
     "metadata": {},
     "output_type": "execute_result"
    }
   ],
   "source": [
    "characters = ['bart', 'homer', 'marge']\n",
    "\n",
    "capitalized_characters = []\n",
    "\n",
    "for character in characters:\n",
    "    cap_character = character.capitalize()\n",
    "    capitalized_characters.append(cap_character)\n",
    "    \n",
    "capitalized_characters"
   ]
  },
  {
   "cell_type": "markdown",
   "metadata": {},
   "source": [
    "So the pattern we follow above is `for character in characters`.  Because the variable name `characters` is plural, we can properly assume that it's a list.  And because we named the block variable `character`,  we are telling ourselves that `character` is an element of the `characters` list.\n",
    "\n",
    "Also, notice that we are always choosing a plural name to represent a list -- `capitalized_characters` is a plural variable name as well.  And if we were to loop through this new list, we would choose the block variable name of `capitalized_character`."
   ]
  },
  {
   "cell_type": "code",
   "execution_count": 7,
   "metadata": {},
   "outputs": [
    {
     "name": "stdout",
     "output_type": "stream",
     "text": [
      "Bart\n",
      "Homer\n",
      "Marge\n"
     ]
    }
   ],
   "source": [
    "for capitalized_character in capitalized_characters:\n",
    "    print(capitalized_character)"
   ]
  },
  {
   "cell_type": "markdown",
   "metadata": {},
   "source": [
    "### Summary"
   ]
  },
  {
   "cell_type": "markdown",
   "metadata": {},
   "source": [
    "In this lessons, we practiced not only looping, but also using loops to map a list of element from one form to another.  Notice that our mapping data always follows the same pattern."
   ]
  },
  {
   "cell_type": "markdown",
   "metadata": {},
   "source": [
    "\n",
    "\n",
    "```python\n",
    "\n",
    "new_list = []\n",
    "for element in original_list:\n",
    "    empty_list.append(element.some_change())\n",
    "\n",
    "new_list\n",
    "```"
   ]
  },
  {
   "cell_type": "markdown",
   "metadata": {},
   "source": [
    "As some bonus practice, try it out with one last example of your owns, say call `upper` on all of our restaurants to create a new list. "
   ]
  }
 ],
 "metadata": {
  "kernelspec": {
   "display_name": "Python 3",
   "language": "python",
   "name": "python3"
  },
  "language_info": {
   "codemirror_mode": {
    "name": "ipython",
    "version": 3
   },
   "file_extension": ".py",
   "mimetype": "text/x-python",
   "name": "python",
   "nbconvert_exporter": "python",
   "pygments_lexer": "ipython3",
   "version": "3.8.6"
  }
 },
 "nbformat": 4,
 "nbformat_minor": 4
}
