{
 "cells": [
  {
   "cell_type": "markdown",
   "metadata": {},
   "source": [
    "# Welcome "
   ]
  },
  {
   "cell_type": "markdown",
   "metadata": {},
   "source": [
    "<img src=\"wave-giphy.gif\">"
   ]
  },
  {
   "cell_type": "markdown",
   "metadata": {},
   "source": [
    "## We have some questions"
   ]
  },
  {
   "cell_type": "markdown",
   "metadata": {},
   "source": [
    "Let's start with the first two questions everyone has when learning to code.\n",
    "\n",
    "**1. Can I do it?**\n",
    "\n",
    "**2. Is it even worth it?**"
   ]
  },
  {
   "cell_type": "markdown",
   "metadata": {},
   "source": [
    "### Can you do it?"
   ]
  },
  {
   "cell_type": "markdown",
   "metadata": {},
   "source": [
    "Yes.  Coding isn't so bad.  Some may even say it's fun.\n",
    "\n",
    "Right now, we're inside of a Jupyter notebook.  It's a coding environment often used by data scientists, that allows for both writing text and executing code.  What does it mean to execute code?  \n",
    "\n",
    "Let's see it."
   ]
  },
  {
   "cell_type": "markdown",
   "metadata": {},
   "source": [
    "See the gray cell below?  There are two ways we can execute the code.\n",
    "\n",
    "The first way is by clicking the gray `play` button to the left of the gray box.\n",
    "\n",
    "This is the second.  Click to the left of the gray box, so that you see a blue bar to the left.  Then hold down the `shift` key, and `press enter` **while still holding down that shift key**."
   ]
  },
  {
   "cell_type": "markdown",
   "metadata": {},
   "source": [
    "<img src=\"https://storage.cloud.google.com/curriculum-assets/curriculum-assets.nosync/mom-files/not-authored.png\" width=\"40%\">"
   ]
  },
  {
   "cell_type": "markdown",
   "metadata": {},
   "source": [
    "> The first time you execute a cell in a Google Colab notebook (which we are in), you receive a warning.  Click `Run Anyway`."
   ]
  },
  {
   "cell_type": "code",
   "execution_count": null,
   "metadata": {},
   "outputs": [],
   "source": [
    "3 + 10"
   ]
  },
  {
   "cell_type": "markdown",
   "metadata": {},
   "source": [
    "You can also watch the video below, to see how a pro does it."
   ]
  },
  {
   "cell_type": "markdown",
   "metadata": {},
   "source": [
    "<img src=\"https://github.com/jigsawlabs/curriculum-assets/blob/master/introduction-to-apis/7-just-a-bit-of-python/jupyter-python.gif?raw=true\" width=\"40%\" />"
   ]
  },
  {
   "cell_type": "markdown",
   "metadata": {},
   "source": [
    "Now let's observe something in the video above.  Notice how the number 4 shows up to the left of the cell in the video, after we pressed `shift + enter`.  This tells us it was the fourth cell executed in the notebook.  **The point** is that we can always check to see if we ran the cell, by looking to see if that number to the left changed after we pressed `shift + enter`.  "
   ]
  },
  {
   "cell_type": "code",
   "execution_count": null,
   "metadata": {},
   "outputs": [],
   "source": [
    "1 + 1"
   ]
  },
  {
   "cell_type": "markdown",
   "metadata": {},
   "source": [
    "> Click on the cell, above, and press `shift + enter` at the same time."
   ]
  },
  {
   "cell_type": "markdown",
   "metadata": {},
   "source": [
    "So yes, you can do it."
   ]
  },
  {
   "cell_type": "markdown",
   "metadata": {},
   "source": [
    "## But is coding worth it?"
   ]
  },
  {
   "cell_type": "markdown",
   "metadata": {},
   "source": [
    "Yea, so some simple addition isn't such a big deal.  But being able to automate some everyday tasks is.  If you've ever had to research information online and present that data, well with a little bit of code, we can accomplish a lot of this work automatically.  And what's nice is that once we code it, we can gather this data from the web as often as we like.\n",
    "\n",
    "But by the end of these lessons, you'll understand how to do just this task.  We call this gathering data *scraping*, and you'll learn how to present and visualize this information by creating some interactive plots.  \n",
    "\n",
    "More importantly, you'll learn the coding fundamentals that will allow you to solve even more problems with code."
   ]
  },
  {
   "cell_type": "markdown",
   "metadata": {},
   "source": [
    "How long will it take to learn all of that?  Well, in our [free in-person workshop in New York](https://www.meetup.com/data-Workshops/), we cover first eight lessons in two and a half hours.  If you're learning this solo, it may take a bit longer, like 4 - 6 hours."
   ]
  },
  {
   "cell_type": "markdown",
   "metadata": {},
   "source": [
    "So why is it worth spending this time learning to code?  Because coding allows you to move faster.  And, along the way, you may also find yourself enjoying it.  After all, *coding is creative challenge.*  Steve Jobs says it better:"
   ]
  },
  {
   "cell_type": "markdown",
   "metadata": {},
   "source": [
    "> \"In my perspective ... science and computer science is a liberal art, it's something everyone should know how to use, at least, and harness in their life. It's not something that should be relegated to 5 percent of the population over in the corner. It's something that everybody should be exposed to and everyone should have mastery of to some extent, and that's how we viewed computation and these computation devices.\"\n",
    ">\n",
    "> [Steve Jobs (Fresh Air 1996 Interview)](https://www.npr.org/2011/10/06/141115121/steve-jobs-computer-science-is-a-liberal-art)"
   ]
  },
  {
   "cell_type": "markdown",
   "metadata": {},
   "source": [
    "## But why Python?"
   ]
  },
  {
   "cell_type": "markdown",
   "metadata": {},
   "source": [
    "Python is a great language for beginners to work with.  It is a powerful and easy to understand language.  \n",
    "\n",
    "But in addition to being beginner friendly, it's also exceptionally popular.  The following is a chart from a [2019 stackoverflow survey](https://insights.stackoverflow.com/survey/2019?utm_source=so-owned&utm_medium=blog&utm_campaign=dev-survey-2019#technology-_-programming-scripting-and-markup-languages) showing the most popular programming languages.  There's Python - right near the top."
   ]
  },
  {
   "cell_type": "markdown",
   "metadata": {},
   "source": [
    "<img src=\"./python-popularity.png\" width=\"70%\">"
   ]
  },
  {
   "cell_type": "markdown",
   "metadata": {},
   "source": [
    "A large reason why Python is so popular is because of the various uses for it.  It can be used to develop websites, or it can be used to perform analysis by data scientists.  "
   ]
  },
  {
   "cell_type": "markdown",
   "metadata": {},
   "source": [
    "### Conclusion"
   ]
  },
  {
   "cell_type": "markdown",
   "metadata": {},
   "source": [
    "Over the next lessons, we'll get up and running in Python.  And we'll do so in a way where we not only learn the fundamentals of coding, but also learn how to apply coding to solve real life problems -- like collecting and visualizing our data.  Let's get started.  "
   ]
  },
  {
   "cell_type": "markdown",
   "metadata": {},
   "source": [
    "If you want to check out the table of contents, click on the Jigsaw Labs Icon, and then scroll down to Zero to Data Visualization."
   ]
  },
  {
   "cell_type": "markdown",
   "metadata": {},
   "source": [
    "<right> \n",
    "<a href=\"https://colab.research.google.com/github/jigsawlabs-student/code-intro/blob/master/1-visual-variables.ipynb\">\n",
    "<img src=\"https://storage.cloud.google.com/curriculum-assets/curriculum-assets.nosync/mom-files/pngfuel.com.png\" align=\"right\" style=\"padding-right: 20px\" width=\"10%\">\n",
    "    </a>\n",
    "</right>"
   ]
  },
  {
   "cell_type": "markdown",
   "metadata": {},
   "source": [
    "<center>\n",
    "<a href=\"https://www.jigsawlabs.io/free\" style=\"position: center\"><img src=\"https://storage.cloud.google.com/curriculum-assets/curriculum-assets.nosync/mom-files/jigsaw-labs.png\" width=\"15%\" style=\"text-align: center\"></a>\n",
    "</center>"
   ]
  }
 ],
 "metadata": {
  "kernelspec": {
   "display_name": "Python 3",
   "language": "python",
   "name": "python3"
  },
  "language_info": {
   "codemirror_mode": {
    "name": "ipython",
    "version": 3
   },
   "file_extension": ".py",
   "mimetype": "text/x-python",
   "name": "python",
   "nbconvert_exporter": "python",
   "pygments_lexer": "ipython3",
   "version": "3.8.8"
  }
 },
 "nbformat": 4,
 "nbformat_minor": 4
}
